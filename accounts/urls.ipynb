{
 "cells": [
  {
   "cell_type": "code",
   "execution_count": null,
   "id": "9508be9e",
   "metadata": {},
   "outputs": [
    {
     "ename": "",
     "evalue": "",
     "output_type": "error",
     "traceback": [
      "\u001b[1;31mRunning cells with 'Python 3.10.7 64-bit' requires ipykernel package.\n",
      "\u001b[1;31mRun the following command to install 'ipykernel' into the Python environment. \n",
      "\u001b[1;31mCommand: '/bin/python3 -m pip install ipykernel -U --user --force-reinstall'"
     ]
    }
   ],
   "source": [
    "from django.urls import path, re_path"
   ]
  },
  {
   "cell_type": "code",
   "execution_count": 8,
   "id": "a39f1ef3",
   "metadata": {
    "lines_to_next_cell": 2
   },
   "outputs": [
    {
     "ename": "ImportError",
     "evalue": "attempted relative import with no known parent package",
     "output_type": "error",
     "traceback": [
      "\u001b[0;31m---------------------------------------------------------------------------\u001b[0m",
      "\u001b[0;31mImportError\u001b[0m                               Traceback (most recent call last)",
      "\u001b[1;32m/home/kajal/Downloads/obvien_divya/accounts/urls.ipynb Cell 2\u001b[0m in \u001b[0;36m<cell line: 1>\u001b[0;34m()\u001b[0m\n\u001b[0;32m----> <a href='vscode-notebook-cell:/home/kajal/Downloads/obvien_divya/accounts/urls.ipynb#W1sZmlsZQ%3D%3D?line=0'>1</a>\u001b[0m \u001b[39mfrom\u001b[39;00m \u001b[39m.\u001b[39;00m \u001b[39mimport\u001b[39;00m views\n",
      "\u001b[0;31mImportError\u001b[0m: attempted relative import with no known parent package"
     ]
    }
   ],
   "source": [
    "from .views import *"
   ]
  },
  {
   "cell_type": "code",
   "execution_count": 4,
   "id": "e7ffbcda",
   "metadata": {},
   "outputs": [
    {
     "ename": "NameError",
     "evalue": "name 'login_view' is not defined",
     "output_type": "error",
     "traceback": [
      "\u001b[0;31m---------------------------------------------------------------------------\u001b[0m",
      "\u001b[0;31mNameError\u001b[0m                                 Traceback (most recent call last)",
      "\u001b[1;32m/home/kajal/Downloads/obvien_divya/accounts/urls.ipynb Cell 3\u001b[0m in \u001b[0;36m<cell line: 2>\u001b[0;34m()\u001b[0m\n\u001b[1;32m      <a href='vscode-notebook-cell:/home/kajal/Downloads/obvien_divya/accounts/urls.ipynb#W2sZmlsZQ%3D%3D?line=0'>1</a>\u001b[0m urlpatterns \u001b[39m=\u001b[39m [\n\u001b[0;32m----> <a href='vscode-notebook-cell:/home/kajal/Downloads/obvien_divya/accounts/urls.ipynb#W2sZmlsZQ%3D%3D?line=1'>2</a>\u001b[0m     path(\u001b[39m'\u001b[39m\u001b[39mlogin/\u001b[39m\u001b[39m'\u001b[39m, login_view, name\u001b[39m=\u001b[39m\u001b[39m'\u001b[39m\u001b[39mlogin\u001b[39m\u001b[39m'\u001b[39m),\n\u001b[1;32m      <a href='vscode-notebook-cell:/home/kajal/Downloads/obvien_divya/accounts/urls.ipynb#W2sZmlsZQ%3D%3D?line=2'>3</a>\u001b[0m     path(\u001b[39m'\u001b[39m\u001b[39msend-test-email/\u001b[39m\u001b[39m'\u001b[39m, send_test_email, name\u001b[39m=\u001b[39m\u001b[39m'\u001b[39m\u001b[39mlogin\u001b[39m\u001b[39m'\u001b[39m),    \n\u001b[1;32m      <a href='vscode-notebook-cell:/home/kajal/Downloads/obvien_divya/accounts/urls.ipynb#W2sZmlsZQ%3D%3D?line=3'>4</a>\u001b[0m     \u001b[39m#path('account-activation/', activate_account, name='activate_account'),\u001b[39;00m\n\u001b[1;32m      <a href='vscode-notebook-cell:/home/kajal/Downloads/obvien_divya/accounts/urls.ipynb#W2sZmlsZQ%3D%3D?line=4'>5</a>\u001b[0m     \n\u001b[1;32m      <a href='vscode-notebook-cell:/home/kajal/Downloads/obvien_divya/accounts/urls.ipynb#W2sZmlsZQ%3D%3D?line=5'>6</a>\u001b[0m     re_path(\u001b[39mr\u001b[39m\u001b[39m'\u001b[39m\u001b[39m^account-activation/(?P<activation_code>[a-zA-Z0-9]\u001b[39m\u001b[39m{25}\u001b[39;00m\u001b[39m)$\u001b[39m\u001b[39m'\u001b[39m, activate_account),\n\u001b[1;32m      <a href='vscode-notebook-cell:/home/kajal/Downloads/obvien_divya/accounts/urls.ipynb#W2sZmlsZQ%3D%3D?line=6'>7</a>\u001b[0m \n\u001b[1;32m      <a href='vscode-notebook-cell:/home/kajal/Downloads/obvien_divya/accounts/urls.ipynb#W2sZmlsZQ%3D%3D?line=7'>8</a>\u001b[0m     path(\u001b[39m'\u001b[39m\u001b[39msignup/\u001b[39m\u001b[39m'\u001b[39m, signup_view, name\u001b[39m=\u001b[39m\u001b[39m'\u001b[39m\u001b[39msignup\u001b[39m\u001b[39m'\u001b[39m),\n\u001b[1;32m      <a href='vscode-notebook-cell:/home/kajal/Downloads/obvien_divya/accounts/urls.ipynb#W2sZmlsZQ%3D%3D?line=8'>9</a>\u001b[0m ]\n",
      "\u001b[0;31mNameError\u001b[0m: name 'login_view' is not defined"
     ]
    }
   ],
   "source": [
    "urlpatterns = [\n",
    "    path('login/', login_view, name='login'),\n",
    "    path('send-test-email/', send_test_email, name='login'),    \n",
    "    #path('account-activation/', activate_account, name='activate_account'),\n",
    "    \n",
    "    re_path(r'^account-activation/(?P<activation_code>[a-zA-Z0-9]{25})$', activate_account),\n",
    "\n",
    "    path('signup/', signup_view, name='signup'),\n",
    "]"
   ]
  },
  {
   "cell_type": "markdown",
   "id": "0858178e",
   "metadata": {},
   "source": []
  }
 ],
 "metadata": {
  "jupytext": {
   "cell_metadata_filter": "-all",
   "main_language": "python",
   "notebook_metadata_filter": "-all"
  },
  "kernelspec": {
   "display_name": "Python 3.10.4 64-bit",
   "language": "python",
   "name": "python3"
  },
  "language_info": {
   "name": "python",
   "version": "3.10.8"
  },
  "vscode": {
   "interpreter": {
    "hash": "916dbcbb3f70747c44a77c7bcd40155683ae19c65e1c03b4aa3499c5328201f1"
   }
  }
 },
 "nbformat": 4,
 "nbformat_minor": 5
}
